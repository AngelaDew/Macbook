{
 "cells": [
  {
   "cell_type": "code",
   "execution_count": null,
   "metadata": {},
   "outputs": [],
   "source": [
    "import json\n",
    "\n",
    "i = 0\n",
    "f1 = open('purchase_log.txt', 'r', encoding='utf-8')\n",
    "next(f1)\n",
    "d_new = {}\n",
    "for line1 in f1:\n",
    "    line1 = line1.strip()\n",
    "    d = json.loads(line1)\n",
    "    d_new[d['user_id']] = d['category']\n",
    "#     i += 1\n",
    "#     if i > 200:\n",
    "#         break    \n",
    "\n",
    "j = 0\n",
    "f2 = open('visit_log.csv', 'r', encoding='utf-8')\n",
    "next(f2)\n",
    "l2 = []\n",
    "for line2 in f2:\n",
    "    line2 = line2.strip().split(',')\n",
    "    l2.append(line2)\n",
    "#     j += 1\n",
    "#     if j > 200:\n",
    "#         break\n",
    "\n",
    "k_1 = []\n",
    "l_1 = []\n",
    "v_1 = []\n",
    "\n",
    "\n",
    "for l in l2:\n",
    "    for k,v in d_new.items():\n",
    "        if k in l:\n",
    "            k_1.append(k)\n",
    "            l_1.append(l[1])\n",
    "            v_1.append(v)\n",
    "\n",
    "with open('funnel.csv', 'w') as f3:\n",
    "    f3.write('user_id,source,category\\n')\n",
    "    for k_1,l_1,v_1 in zip(k_1,l_1, v_1):\n",
    "        f3.write(f'{k_1},{l_1},{v_1}\\n') \n",
    "    \n",
    "    \n",
    "f4 = open('funnel.csv', 'r', encoding='utf-8')\n",
    "for line4 in f4:\n",
    "    print(line4)\n",
    "                \n",
    "        \n",
    "\n",
    "\n"
   ]
  }
 ],
 "metadata": {
  "kernelspec": {
   "display_name": "Python 3",
   "language": "python",
   "name": "python3"
  },
  "language_info": {
   "codemirror_mode": {
    "name": "ipython",
    "version": 3
   },
   "file_extension": ".py",
   "mimetype": "text/x-python",
   "name": "python",
   "nbconvert_exporter": "python",
   "pygments_lexer": "ipython3",
   "version": "3.8.3"
  }
 },
 "nbformat": 4,
 "nbformat_minor": 4
}
