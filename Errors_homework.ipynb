{
 "cells": [
  {
   "cell_type": "code",
   "execution_count": 76,
   "metadata": {},
   "outputs": [],
   "source": [
    "from datetime import datetime, timedelta"
   ]
  },
  {
   "cell_type": "code",
   "execution_count": 77,
   "metadata": {},
   "outputs": [
    {
     "name": "stdout",
     "output_type": "stream",
     "text": [
      "The Moscow Times - Wednesday, October 2, 2002\n",
      "The Guardian - Friday, 11.10.2013\n",
      "Daily News - Thursday, 18 August 1977\n"
     ]
    }
   ],
   "source": [
    "# Задача 1\n",
    "moscow_times_1 = datetime.strptime('Wednesday, October 2, 2002', '%A, %B %d, %Y')\n",
    "moscow_times_2 = moscow_times_1.strftime('%A, %B %-d, %Y')\n",
    "moscow_times_3 = 'The Moscow Times -'\n",
    "print(moscow_times_3, moscow_times_2)\n",
    "\n",
    "\n",
    "guardian_1 = datetime.strptime('Friday, 11.10.13', '%A, %d.%m.%y')\n",
    "guardian_2 = guardian_1.strftime('%A, %d.%m.%Y')\n",
    "guardian_3 = 'The Guardian -'\n",
    "print(guardian_3, guardian_2)\n",
    "\n",
    "\n",
    "daily_1 = datetime.strptime('Thursday, 18 August 1977', '%A, %d %B %Y')\n",
    "daily_2 = daily_1.strftime('%A, %d %B %Y')\n",
    "daily_3 = 'Daily News -'\n",
    "print(daily_3, daily_2)\n"
   ]
  },
  {
   "cell_type": "code",
   "execution_count": null,
   "metadata": {},
   "outputs": [],
   "source": [
    "# Задаче 2"
   ]
  },
  {
   "cell_type": "code",
   "execution_count": 78,
   "metadata": {},
   "outputs": [
    {
     "name": "stdout",
     "output_type": "stream",
     "text": [
      "2018-04-02 True\n",
      "2018-02-29 False\n",
      "2018-19-02 False\n"
     ]
    }
   ],
   "source": [
    "stream = ['2018-04-02', '2018-02-29', '2018-19-02']\n",
    "  \n",
    "def true_false (date):\n",
    "    for i in date:\n",
    "        try:\n",
    "            datetime.strptime(i, '%Y-%m-%d')\n",
    "            print(i,'True')\n",
    "        except ValueError:\n",
    "            print(i,'False')\n",
    "true_false(stream)"
   ]
  },
  {
   "cell_type": "code",
   "execution_count": null,
   "metadata": {},
   "outputs": [],
   "source": [
    "# Задача 3"
   ]
  },
  {
   "cell_type": "code",
   "execution_count": 97,
   "metadata": {},
   "outputs": [
    {
     "name": "stdout",
     "output_type": "stream",
     "text": [
      "Введите дату в формате YYYY-MM-DD: 2020-08-19\n",
      "Введите дату в формате YYYY-MM-DD: 2020-13-20\n",
      "\n"
     ]
    }
   ],
   "source": [
    "def start_():\n",
    "    start_date = input('Введите дату в формате YYYY-MM-DD: ')\n",
    "    end_date = input('Введите дату в формате YYYY-MM-DD: ')\n",
    "    try:\n",
    "        start_date_dt = datetime.strptime(start_date, '%Y-%m-%d')\n",
    "        end_date_dt = datetime.strptime(end_date, '%Y-%m-%d')\n",
    "        if start_date_dt < end_date_dt:\n",
    "            print(start_date, end_date)\n",
    "        else:\n",
    "            print('')    \n",
    "    except:\n",
    "        print('')\n",
    "\n",
    "start_()\n"
   ]
  },
  {
   "cell_type": "code",
   "execution_count": null,
   "metadata": {},
   "outputs": [],
   "source": [
    "\n"
   ]
  },
  {
   "cell_type": "code",
   "execution_count": null,
   "metadata": {},
   "outputs": [],
   "source": []
  },
  {
   "cell_type": "code",
   "execution_count": null,
   "metadata": {},
   "outputs": [],
   "source": []
  }
 ],
 "metadata": {
  "kernelspec": {
   "display_name": "Python 3",
   "language": "python",
   "name": "python3"
  },
  "language_info": {
   "codemirror_mode": {
    "name": "ipython",
    "version": 3
   },
   "file_extension": ".py",
   "mimetype": "text/x-python",
   "name": "python",
   "nbconvert_exporter": "python",
   "pygments_lexer": "ipython3",
   "version": "3.8.3"
  }
 },
 "nbformat": 4,
 "nbformat_minor": 4
}
