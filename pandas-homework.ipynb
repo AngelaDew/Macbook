{
 "cells": [
  {
   "cell_type": "code",
   "execution_count": 132,
   "metadata": {},
   "outputs": [
    {
     "data": {
      "text/html": [
       "<div>\n",
       "<style scoped>\n",
       "    .dataframe tbody tr th:only-of-type {\n",
       "        vertical-align: middle;\n",
       "    }\n",
       "\n",
       "    .dataframe tbody tr th {\n",
       "        vertical-align: top;\n",
       "    }\n",
       "\n",
       "    .dataframe thead th {\n",
       "        text-align: right;\n",
       "    }\n",
       "</style>\n",
       "<table border=\"1\" class=\"dataframe\">\n",
       "  <thead>\n",
       "    <tr style=\"text-align: right;\">\n",
       "      <th></th>\n",
       "      <th>userId</th>\n",
       "      <th>rating</th>\n",
       "      <th>timestamp</th>\n",
       "    </tr>\n",
       "    <tr>\n",
       "      <th>movieId</th>\n",
       "      <th></th>\n",
       "      <th></th>\n",
       "      <th></th>\n",
       "    </tr>\n",
       "  </thead>\n",
       "  <tbody>\n",
       "    <tr>\n",
       "      <th>318</th>\n",
       "      <td>153</td>\n",
       "      <td>153</td>\n",
       "      <td>153</td>\n",
       "    </tr>\n",
       "  </tbody>\n",
       "</table>\n",
       "</div>"
      ],
      "text/plain": [
       "         userId  rating  timestamp\n",
       "movieId                           \n",
       "318         153     153        153"
      ]
     },
     "execution_count": 132,
     "metadata": {},
     "output_type": "execute_result"
    }
   ],
   "source": [
    "# Задание 1\n",
    "import pandas as pd\n",
    "data = pd.read_csv('ratings.csv')\n",
    "filtred = data[ data.rating == 5 ]\n",
    "ratings = filtred.groupby('movieId').count().sort_values('rating', ascending=False).head(1)\n",
    "ratings"
   ]
  },
  {
   "cell_type": "code",
   "execution_count": 133,
   "metadata": {},
   "outputs": [
    {
     "data": {
      "text/plain": [
       "quantity    240580.0\n",
       "dtype: float64"
      ]
     },
     "execution_count": 133,
     "metadata": {},
     "output_type": "execute_result"
    }
   ],
   "source": [
    "# Задание 2\n",
    "import pandas as pd\n",
    "data = pd.read_csv('power.csv')\n",
    "filtred_countries = data[ (data['country']=='Lithuania') | (data['country']=='Estonia') | (data['country']=='Latvia') ]\n",
    "filtred_categories = filtred_countries[(filtred_countries['category'] == 4 ) | (filtred_countries['category'] == 12 ) | (filtred_countries['category'] == 21 ) ]\n",
    "filtred_year = filtred_categories[(filtred_categories['year'] > 2004) & (filtred_categories['year'] < 2011) ]\n",
    "filtred_quantity = filtred_year[(filtred_year['quantity'] > 0)]\n",
    "baltics_1 = filtred_quantity.groupby('country').sum()\n",
    "baltics_2 = baltics_1.reset_index()[['country','quantity']]\n",
    "baltics_quantity = baltics_2.reset_index()[['quantity']].sum()\n",
    "baltics_quantity"
   ]
  },
  {
   "cell_type": "code",
   "execution_count": 155,
   "metadata": {},
   "outputs": [
    {
     "data": {
      "text/html": [
       "<div>\n",
       "<style scoped>\n",
       "    .dataframe tbody tr th:only-of-type {\n",
       "        vertical-align: middle;\n",
       "    }\n",
       "\n",
       "    .dataframe tbody tr th {\n",
       "        vertical-align: top;\n",
       "    }\n",
       "\n",
       "    .dataframe thead th {\n",
       "        text-align: right;\n",
       "    }\n",
       "</style>\n",
       "<table border=\"1\" class=\"dataframe\">\n",
       "  <thead>\n",
       "    <tr style=\"text-align: right;\">\n",
       "      <th></th>\n",
       "      <th>Дата*</th>\n",
       "      <th>Золото</th>\n",
       "      <th>Платина</th>\n",
       "      <th>Палладий</th>\n",
       "    </tr>\n",
       "  </thead>\n",
       "  <tbody>\n",
       "    <tr>\n",
       "      <th>0</th>\n",
       "      <td>24.09.2020</td>\n",
       "      <td>4 635,0100</td>\n",
       "      <td>2 096,4400</td>\n",
       "      <td>5 479,2300</td>\n",
       "    </tr>\n",
       "    <tr>\n",
       "      <th>1</th>\n",
       "      <td>23.09.2020</td>\n",
       "      <td>4 666,7300</td>\n",
       "      <td>2 172,6200</td>\n",
       "      <td>5 559,0700</td>\n",
       "    </tr>\n",
       "    <tr>\n",
       "      <th>2</th>\n",
       "      <td>22.09.2020</td>\n",
       "      <td>4 720,4300</td>\n",
       "      <td>2 261,3300</td>\n",
       "      <td>5 737,6600</td>\n",
       "    </tr>\n",
       "    <tr>\n",
       "      <th>3</th>\n",
       "      <td>19.09.2020</td>\n",
       "      <td>4 715,5000</td>\n",
       "      <td>2 274,8300</td>\n",
       "      <td>5 659,3300</td>\n",
       "    </tr>\n",
       "    <tr>\n",
       "      <th>4</th>\n",
       "      <td>18.09.2020</td>\n",
       "      <td>4 680,6100</td>\n",
       "      <td>2 299,0800</td>\n",
       "      <td>5 717,4900</td>\n",
       "    </tr>\n",
       "    <tr>\n",
       "      <th>5</th>\n",
       "      <td>17.09.2020</td>\n",
       "      <td>4 733,1700</td>\n",
       "      <td>2 363,2100</td>\n",
       "      <td>5 721,3300</td>\n",
       "    </tr>\n",
       "    <tr>\n",
       "      <th>6</th>\n",
       "      <td>16.09.2020</td>\n",
       "      <td>4 746,6100</td>\n",
       "      <td>2 332,7500</td>\n",
       "      <td>5 630,0300</td>\n",
       "    </tr>\n",
       "    <tr>\n",
       "      <th>7</th>\n",
       "      <td>15.09.2020</td>\n",
       "      <td>4 665,6700</td>\n",
       "      <td>2 258,0100</td>\n",
       "      <td>5 582,5600</td>\n",
       "    </tr>\n",
       "  </tbody>\n",
       "</table>\n",
       "</div>"
      ],
      "text/plain": [
       "        Дата*      Золото     Платина    Палладий\n",
       "0  24.09.2020  4 635,0100  2 096,4400  5 479,2300\n",
       "1  23.09.2020  4 666,7300  2 172,6200  5 559,0700\n",
       "2  22.09.2020  4 720,4300  2 261,3300  5 737,6600\n",
       "3  19.09.2020  4 715,5000  2 274,8300  5 659,3300\n",
       "4  18.09.2020  4 680,6100  2 299,0800  5 717,4900\n",
       "5  17.09.2020  4 733,1700  2 363,2100  5 721,3300\n",
       "6  16.09.2020  4 746,6100  2 332,7500  5 630,0300\n",
       "7  15.09.2020  4 665,6700  2 258,0100  5 582,5600"
      ]
     },
     "execution_count": 155,
     "metadata": {},
     "output_type": "execute_result"
    }
   ],
   "source": [
    "# Задание 3\n",
    "import pandas as pd\n",
    "data = pd.read_html('https://www.cbr.ru/hd_base/metall/metall_base_new/?UniDbQuery.Posted=True&UniDbQuery.From=14.09.2020&UniDbQuery.To=24.09.2020&UniDbQuery.Gold=true&UniDbQuery.Platinum=true&UniDbQuery.Palladium=true')[0]\n",
    "data"
   ]
  },
  {
   "cell_type": "code",
   "execution_count": null,
   "metadata": {},
   "outputs": [],
   "source": []
  },
  {
   "cell_type": "code",
   "execution_count": null,
   "metadata": {},
   "outputs": [],
   "source": []
  }
 ],
 "metadata": {
  "kernelspec": {
   "display_name": "Python 3",
   "language": "python",
   "name": "python3"
  },
  "language_info": {
   "codemirror_mode": {
    "name": "ipython",
    "version": 3
   },
   "file_extension": ".py",
   "mimetype": "text/x-python",
   "name": "python",
   "nbconvert_exporter": "python",
   "pygments_lexer": "ipython3",
   "version": "3.8.3"
  }
 },
 "nbformat": 4,
 "nbformat_minor": 4
}
